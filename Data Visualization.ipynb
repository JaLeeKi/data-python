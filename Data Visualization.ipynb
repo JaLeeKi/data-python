{
 "cells": [
  {
   "cell_type": "code",
   "execution_count": 2,
   "id": "5d72040e",
   "metadata": {},
   "outputs": [],
   "source": [
    "import pandas as pd"
   ]
  },
  {
   "cell_type": "code",
   "execution_count": 3,
   "id": "ea239e71",
   "metadata": {},
   "outputs": [],
   "source": [
    "from matplotlib import pyplot as plt"
   ]
  },
  {
   "cell_type": "code",
   "execution_count": 4,
   "id": "c989233f",
   "metadata": {},
   "outputs": [],
   "source": [
    "invoices = pd.read_csv(\"CupcakeInvoices.csv\")"
   ]
  },
  {
   "cell_type": "code",
   "execution_count": 5,
   "id": "9b06454d",
   "metadata": {},
   "outputs": [
    {
     "data": {
      "text/html": [
       "<div>\n",
       "<style scoped>\n",
       "    .dataframe tbody tr th:only-of-type {\n",
       "        vertical-align: middle;\n",
       "    }\n",
       "\n",
       "    .dataframe tbody tr th {\n",
       "        vertical-align: top;\n",
       "    }\n",
       "\n",
       "    .dataframe thead th {\n",
       "        text-align: right;\n",
       "    }\n",
       "</style>\n",
       "<table border=\"1\" class=\"dataframe\">\n",
       "  <thead>\n",
       "    <tr style=\"text-align: right;\">\n",
       "      <th></th>\n",
       "      <th>first_name</th>\n",
       "      <th>last_name</th>\n",
       "      <th>flavor</th>\n",
       "      <th>quantity</th>\n",
       "      <th>price</th>\n",
       "    </tr>\n",
       "  </thead>\n",
       "  <tbody>\n",
       "    <tr>\n",
       "      <th>0</th>\n",
       "      <td>Joe</td>\n",
       "      <td>Smith</td>\n",
       "      <td>Chocolate</td>\n",
       "      <td>4</td>\n",
       "      <td>3.99</td>\n",
       "    </tr>\n",
       "    <tr>\n",
       "      <th>1</th>\n",
       "      <td>Eric</td>\n",
       "      <td>Williams</td>\n",
       "      <td>Vanilla</td>\n",
       "      <td>12</td>\n",
       "      <td>2.99</td>\n",
       "    </tr>\n",
       "    <tr>\n",
       "      <th>2</th>\n",
       "      <td>Tyler</td>\n",
       "      <td>Purchase</td>\n",
       "      <td>Chocolate</td>\n",
       "      <td>6</td>\n",
       "      <td>3.99</td>\n",
       "    </tr>\n",
       "    <tr>\n",
       "      <th>3</th>\n",
       "      <td>Riley</td>\n",
       "      <td>Weatherly</td>\n",
       "      <td>Vanilla</td>\n",
       "      <td>2</td>\n",
       "      <td>2.99</td>\n",
       "    </tr>\n",
       "    <tr>\n",
       "      <th>4</th>\n",
       "      <td>Brittany</td>\n",
       "      <td>Morgan</td>\n",
       "      <td>Chocolate</td>\n",
       "      <td>50</td>\n",
       "      <td>1.99</td>\n",
       "    </tr>\n",
       "    <tr>\n",
       "      <th>5</th>\n",
       "      <td>Jimmy</td>\n",
       "      <td>Wade</td>\n",
       "      <td>Strawberry</td>\n",
       "      <td>8</td>\n",
       "      <td>4.99</td>\n",
       "    </tr>\n",
       "    <tr>\n",
       "      <th>6</th>\n",
       "      <td>Jeff</td>\n",
       "      <td>Garcia</td>\n",
       "      <td>Strawberry</td>\n",
       "      <td>12</td>\n",
       "      <td>4.99</td>\n",
       "    </tr>\n",
       "    <tr>\n",
       "      <th>7</th>\n",
       "      <td>Amy</td>\n",
       "      <td>Stark</td>\n",
       "      <td>Chocolate</td>\n",
       "      <td>12</td>\n",
       "      <td>3.99</td>\n",
       "    </tr>\n",
       "    <tr>\n",
       "      <th>8</th>\n",
       "      <td>Karl</td>\n",
       "      <td>Jenson</td>\n",
       "      <td>Strawberry</td>\n",
       "      <td>1</td>\n",
       "      <td>4.99</td>\n",
       "    </tr>\n",
       "    <tr>\n",
       "      <th>9</th>\n",
       "      <td>Sally</td>\n",
       "      <td>Gains</td>\n",
       "      <td>Vanilla</td>\n",
       "      <td>100</td>\n",
       "      <td>2.99</td>\n",
       "    </tr>\n",
       "    <tr>\n",
       "      <th>10</th>\n",
       "      <td>Ron</td>\n",
       "      <td>Blake</td>\n",
       "      <td>Chocolate</td>\n",
       "      <td>10</td>\n",
       "      <td>3.99</td>\n",
       "    </tr>\n",
       "    <tr>\n",
       "      <th>11</th>\n",
       "      <td>Daniel</td>\n",
       "      <td>Montenegro</td>\n",
       "      <td>Strawberry</td>\n",
       "      <td>5</td>\n",
       "      <td>3.99</td>\n",
       "    </tr>\n",
       "    <tr>\n",
       "      <th>12</th>\n",
       "      <td>Catherine</td>\n",
       "      <td>Alexander</td>\n",
       "      <td>Vanilla</td>\n",
       "      <td>20</td>\n",
       "      <td>1.49</td>\n",
       "    </tr>\n",
       "    <tr>\n",
       "      <th>13</th>\n",
       "      <td>Sharleen</td>\n",
       "      <td>Reed</td>\n",
       "      <td>Strawberry</td>\n",
       "      <td>4</td>\n",
       "      <td>4.99</td>\n",
       "    </tr>\n",
       "    <tr>\n",
       "      <th>14</th>\n",
       "      <td>Richard</td>\n",
       "      <td>Prentis</td>\n",
       "      <td>Chocolate</td>\n",
       "      <td>2</td>\n",
       "      <td>3.99</td>\n",
       "    </tr>\n",
       "    <tr>\n",
       "      <th>15</th>\n",
       "      <td>Jenny</td>\n",
       "      <td>Anderson</td>\n",
       "      <td>Strawberry</td>\n",
       "      <td>1</td>\n",
       "      <td>4.99</td>\n",
       "    </tr>\n",
       "    <tr>\n",
       "      <th>16</th>\n",
       "      <td>Kevin</td>\n",
       "      <td>Salvatore</td>\n",
       "      <td>Chocolate</td>\n",
       "      <td>5</td>\n",
       "      <td>3.99</td>\n",
       "    </tr>\n",
       "    <tr>\n",
       "      <th>17</th>\n",
       "      <td>Barry</td>\n",
       "      <td>Brown</td>\n",
       "      <td>Chocolate</td>\n",
       "      <td>8</td>\n",
       "      <td>1.00</td>\n",
       "    </tr>\n",
       "    <tr>\n",
       "      <th>18</th>\n",
       "      <td>Jayna</td>\n",
       "      <td>Gilbert</td>\n",
       "      <td>Vanilla</td>\n",
       "      <td>6</td>\n",
       "      <td>2.99</td>\n",
       "    </tr>\n",
       "    <tr>\n",
       "      <th>19</th>\n",
       "      <td>Laura</td>\n",
       "      <td>Cooper</td>\n",
       "      <td>Chocolate</td>\n",
       "      <td>1</td>\n",
       "      <td>3.99</td>\n",
       "    </tr>\n",
       "    <tr>\n",
       "      <th>20</th>\n",
       "      <td>Lynn</td>\n",
       "      <td>Scott</td>\n",
       "      <td>Strawberry</td>\n",
       "      <td>4</td>\n",
       "      <td>2.50</td>\n",
       "    </tr>\n",
       "  </tbody>\n",
       "</table>\n",
       "</div>"
      ],
      "text/plain": [
       "   first_name   last_name      flavor  quantity  price\n",
       "0         Joe       Smith   Chocolate         4   3.99\n",
       "1        Eric    Williams     Vanilla        12   2.99\n",
       "2       Tyler    Purchase   Chocolate         6   3.99\n",
       "3       Riley   Weatherly     Vanilla         2   2.99\n",
       "4    Brittany      Morgan   Chocolate        50   1.99\n",
       "5       Jimmy        Wade  Strawberry         8   4.99\n",
       "6        Jeff      Garcia  Strawberry        12   4.99\n",
       "7         Amy       Stark   Chocolate        12   3.99\n",
       "8        Karl      Jenson  Strawberry         1   4.99\n",
       "9       Sally       Gains     Vanilla       100   2.99\n",
       "10        Ron       Blake   Chocolate        10   3.99\n",
       "11     Daniel  Montenegro  Strawberry         5   3.99\n",
       "12  Catherine   Alexander     Vanilla        20   1.49\n",
       "13   Sharleen        Reed  Strawberry         4   4.99\n",
       "14    Richard     Prentis   Chocolate         2   3.99\n",
       "15      Jenny    Anderson  Strawberry         1   4.99\n",
       "16      Kevin   Salvatore   Chocolate         5   3.99\n",
       "17      Barry       Brown   Chocolate         8   1.00\n",
       "18      Jayna     Gilbert     Vanilla         6   2.99\n",
       "19      Laura      Cooper   Chocolate         1   3.99\n",
       "20       Lynn       Scott  Strawberry         4   2.50"
      ]
     },
     "execution_count": 5,
     "metadata": {},
     "output_type": "execute_result"
    }
   ],
   "source": [
    "invoices"
   ]
  },
  {
   "cell_type": "code",
   "execution_count": 6,
   "id": "eb65f34b",
   "metadata": {},
   "outputs": [],
   "source": [
    "chocolate = invoices[invoices.flavor == \"Chocolate\"]"
   ]
  },
  {
   "cell_type": "code",
   "execution_count": 18,
   "id": "a472f016",
   "metadata": {},
   "outputs": [
    {
     "data": {
      "text/html": [
       "<div>\n",
       "<style scoped>\n",
       "    .dataframe tbody tr th:only-of-type {\n",
       "        vertical-align: middle;\n",
       "    }\n",
       "\n",
       "    .dataframe tbody tr th {\n",
       "        vertical-align: top;\n",
       "    }\n",
       "\n",
       "    .dataframe thead th {\n",
       "        text-align: right;\n",
       "    }\n",
       "</style>\n",
       "<table border=\"1\" class=\"dataframe\">\n",
       "  <thead>\n",
       "    <tr style=\"text-align: right;\">\n",
       "      <th></th>\n",
       "      <th>first_name</th>\n",
       "      <th>last_name</th>\n",
       "      <th>flavor</th>\n",
       "      <th>quantity</th>\n",
       "      <th>price</th>\n",
       "    </tr>\n",
       "  </thead>\n",
       "  <tbody>\n",
       "    <tr>\n",
       "      <th>0</th>\n",
       "      <td>Joe</td>\n",
       "      <td>Smith</td>\n",
       "      <td>Chocolate</td>\n",
       "      <td>4</td>\n",
       "      <td>3.99</td>\n",
       "    </tr>\n",
       "    <tr>\n",
       "      <th>2</th>\n",
       "      <td>Tyler</td>\n",
       "      <td>Purchase</td>\n",
       "      <td>Chocolate</td>\n",
       "      <td>6</td>\n",
       "      <td>3.99</td>\n",
       "    </tr>\n",
       "    <tr>\n",
       "      <th>4</th>\n",
       "      <td>Brittany</td>\n",
       "      <td>Morgan</td>\n",
       "      <td>Chocolate</td>\n",
       "      <td>50</td>\n",
       "      <td>1.99</td>\n",
       "    </tr>\n",
       "    <tr>\n",
       "      <th>7</th>\n",
       "      <td>Amy</td>\n",
       "      <td>Stark</td>\n",
       "      <td>Chocolate</td>\n",
       "      <td>12</td>\n",
       "      <td>3.99</td>\n",
       "    </tr>\n",
       "    <tr>\n",
       "      <th>10</th>\n",
       "      <td>Ron</td>\n",
       "      <td>Blake</td>\n",
       "      <td>Chocolate</td>\n",
       "      <td>10</td>\n",
       "      <td>3.99</td>\n",
       "    </tr>\n",
       "    <tr>\n",
       "      <th>14</th>\n",
       "      <td>Richard</td>\n",
       "      <td>Prentis</td>\n",
       "      <td>Chocolate</td>\n",
       "      <td>2</td>\n",
       "      <td>3.99</td>\n",
       "    </tr>\n",
       "    <tr>\n",
       "      <th>16</th>\n",
       "      <td>Kevin</td>\n",
       "      <td>Salvatore</td>\n",
       "      <td>Chocolate</td>\n",
       "      <td>5</td>\n",
       "      <td>3.99</td>\n",
       "    </tr>\n",
       "    <tr>\n",
       "      <th>17</th>\n",
       "      <td>Barry</td>\n",
       "      <td>Brown</td>\n",
       "      <td>Chocolate</td>\n",
       "      <td>8</td>\n",
       "      <td>1.00</td>\n",
       "    </tr>\n",
       "    <tr>\n",
       "      <th>19</th>\n",
       "      <td>Laura</td>\n",
       "      <td>Cooper</td>\n",
       "      <td>Chocolate</td>\n",
       "      <td>1</td>\n",
       "      <td>3.99</td>\n",
       "    </tr>\n",
       "  </tbody>\n",
       "</table>\n",
       "</div>"
      ],
      "text/plain": [
       "   first_name  last_name     flavor  quantity  price\n",
       "0         Joe      Smith  Chocolate         4   3.99\n",
       "2       Tyler   Purchase  Chocolate         6   3.99\n",
       "4    Brittany     Morgan  Chocolate        50   1.99\n",
       "7         Amy      Stark  Chocolate        12   3.99\n",
       "10        Ron      Blake  Chocolate        10   3.99\n",
       "14    Richard    Prentis  Chocolate         2   3.99\n",
       "16      Kevin  Salvatore  Chocolate         5   3.99\n",
       "17      Barry      Brown  Chocolate         8   1.00\n",
       "19      Laura     Cooper  Chocolate         1   3.99"
      ]
     },
     "execution_count": 18,
     "metadata": {},
     "output_type": "execute_result"
    }
   ],
   "source": [
    "chocolate"
   ]
  },
  {
   "cell_type": "code",
   "execution_count": 8,
   "id": "6bb7f7b1",
   "metadata": {},
   "outputs": [],
   "source": [
    "vanilla = invoices[invoices.flavor == \"Vanilla\"]"
   ]
  },
  {
   "cell_type": "code",
   "execution_count": 9,
   "id": "91ed83c8",
   "metadata": {},
   "outputs": [],
   "source": [
    "strawberry = invoices[invoices.flavor == \"Strawberry\"]"
   ]
  },
  {
   "cell_type": "code",
   "execution_count": 16,
   "id": "070a7efc",
   "metadata": {},
   "outputs": [],
   "source": [
    "chocolate_total = chocolate.quantity * chocolate.price"
   ]
  },
  {
   "cell_type": "code",
   "execution_count": 22,
   "id": "4a83772f",
   "metadata": {},
   "outputs": [
    {
     "data": {
      "text/plain": [
       "0     15.96\n",
       "2     23.94\n",
       "4     99.50\n",
       "7     47.88\n",
       "10    39.90\n",
       "14     7.98\n",
       "16    19.95\n",
       "17     8.00\n",
       "19     3.99\n",
       "dtype: float64"
      ]
     },
     "execution_count": 22,
     "metadata": {},
     "output_type": "execute_result"
    }
   ],
   "source": [
    "chocolate_total"
   ]
  },
  {
   "cell_type": "code",
   "execution_count": 19,
   "id": "81cfcd27",
   "metadata": {},
   "outputs": [],
   "source": [
    "strawberry_total = strawberry.quantity * strawberry.price"
   ]
  },
  {
   "cell_type": "code",
   "execution_count": 26,
   "id": "7adfcf12",
   "metadata": {},
   "outputs": [
    {
     "data": {
      "text/plain": [
       "5     39.92\n",
       "6     59.88\n",
       "8      4.99\n",
       "11    19.95\n",
       "13    19.96\n",
       "15     4.99\n",
       "20    10.00\n",
       "dtype: float64"
      ]
     },
     "execution_count": 26,
     "metadata": {},
     "output_type": "execute_result"
    }
   ],
   "source": [
    "strawberry_total"
   ]
  },
  {
   "cell_type": "code",
   "execution_count": 20,
   "id": "db736976",
   "metadata": {},
   "outputs": [],
   "source": [
    "vanilla_total = vanilla.quantity * vanilla.price"
   ]
  },
  {
   "cell_type": "code",
   "execution_count": 27,
   "id": "59063916",
   "metadata": {},
   "outputs": [
    {
     "data": {
      "text/plain": [
       "1      35.88\n",
       "3       5.98\n",
       "9     299.00\n",
       "12     29.80\n",
       "18     17.94\n",
       "dtype: float64"
      ]
     },
     "execution_count": 27,
     "metadata": {},
     "output_type": "execute_result"
    }
   ],
   "source": [
    "vanilla_total"
   ]
  },
  {
   "cell_type": "code",
   "execution_count": 25,
   "id": "e9defec5",
   "metadata": {},
   "outputs": [
    {
     "data": {
      "text/plain": [
       "<function matplotlib.pyplot.show(close=None, block=None)>"
      ]
     },
     "execution_count": 25,
     "metadata": {},
     "output_type": "execute_result"
    },
    {
     "data": {
      "image/png": "[encoded data removed]",
      "text/plain": [
       "<Figure size 432x288 with 1 Axes>"
      ]
     },
     "metadata": {
      "needs_background": "light"
     },
     "output_type": "display_data"
    }
   ],
   "source": [
    "plt.plot(chocolate_total)\n",
    "plt.plot(strawberry_total)\n",
    "plt.plot(vanilla_total)\n",
    "plt.legend(['Chocolate', 'Strawberry', 'Vanilla'])\n",
    "plt.xlabel('Quantity')\n",
    "\n",
    "plt.show"
   ]
  },
  {
   "cell_type": "code",
   "execution_count": null,
   "id": "90c7fccb",
   "metadata": {},
   "outputs": [],
   "source": []
  }
 ],
 "metadata": {
  "kernelspec": {
   "display_name": "Python 3",
   "language": "python",
   "name": "python3"
  },
  "language_info": {
   "codemirror_mode": {
    "name": "ipython",
    "version": 3
   },
   "file_extension": ".py",
   "mimetype": "text/x-python",
   "name": "python",
   "nbconvert_exporter": "python",
   "pygments_lexer": "ipython3",
   "version": "3.8.8"
  }
 },
 "nbformat": 4,
 "nbformat_minor": 5
}
